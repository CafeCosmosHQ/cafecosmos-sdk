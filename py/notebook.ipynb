{
 "cells": [
  {
   "cell_type": "code",
   "execution_count": 39,
   "metadata": {},
   "outputs": [],
   "source": [
    "rpc = \"https://rpc.garnetchain.com\"\n",
    "world_address = \"0x0209FE2b6C1a2B8cE12D8d9D6cf2D78a3Ff324FE\"\n",
    "\n"
   ]
  },
  {
   "cell_type": "code",
   "execution_count": 50,
   "metadata": {},
   "outputs": [],
   "source": [
    "import requests\n",
    "\n",
    "def query_table(rpc_url, world_address, table_name, columns):\n",
    "    url = f\"{rpc_url}/q\"\n",
    "    query = f\"SELECT {', '.join(columns)} FROM {table_name} LIMIT 1;\"\n",
    "    request_body = [\n",
    "        {\n",
    "            \"address\": world_address,\n",
    "            \"query\": query,\n",
    "        }\n",
    "    ]\n",
    "\n",
    "    try:\n",
    "        response = requests.post(url, json=request_body, headers={\n",
    "            \"Content-Type\": \"application/json\",\n",
    "            \"Accept-Encoding\": \"gzip\"\n",
    "        })\n",
    "        response.raise_for_status()\n",
    "        return response.json()\n",
    "    except requests.exceptions.RequestException as e:\n",
    "        print(f\"Error querying table '{table_name}': {e}\")\n",
    "        return None\n",
    "\n",
    "# Example usage\n",
    "rpc = \"https://rpc.garnetchain.com\"\n",
    "world_address = \"0x0209FE2b6C1a2B8cE12D8d9D6cf2D78a3Ff324FE\"\n",
    "\n",
    "# Known table and columns\n",
    "table_name = \"Inventory\"\n",
    "columns = [\"landId\", \"item\", \"quantity\"]\n",
    "\n",
    "result = query_table(rpc, world_address, table_name, columns)\n",
    "print(result)\n"
   ]
  },
  {
   "cell_type": "code",
   "execution_count": 51,
   "metadata": {},
   "outputs": [
    {
     "name": "stdout",
     "output_type": "stream",
     "text": [
      "b'\\x00\\x00\\x00\\x00\\x00\\x00\\x00\\x00\\x00\\x00\\x00\\x00\\x00\\x00\\x00\\x00\\x00\\x00\\x00\\x00\\x00\\x00\\x00\\x00\\x00\\x00\\x00\\x00\\x00\\x00\\x00\\x00'\n",
      "0\n"
     ]
    }
   ],
   "source": [
    "# cafe = CafeCosmos(rpc=rpc, world_address=world_address)    \n",
    "\n",
    "# print(cafe.get_inventory_record(4, 110))"
   ]
  },
  {
   "cell_type": "code",
   "execution_count": 52,
   "metadata": {},
   "outputs": [
    {
     "ename": "MismatchedABI",
     "evalue": "\nABI Not Found!\nFound 1 element(s) named `getRecord` that accept 2 argument(s).\nThe provided arguments are not valid.\nProvided argument types: (str,int,int)\nProvided keyword argument types: {}\n\nTried to find a matching ABI element named `getRecord`, but encountered the following problems:\nSignature: getRecord(bytes32,bytes32[]), type: function\nArgument 1 value `Inventory` is not compatible with type `bytes32`.\nArgument 2 value `[4, 110]` is not compatible with type `bytes32[]`.\nSignature: getRecord(bytes32,bytes32[],bytes32), type: function\nExpected 3 argument(s) but received 2 argument(s).\n",
     "output_type": "error",
     "traceback": [
      "\u001b[0;31m---------------------------------------------------------------------------\u001b[0m",
      "\u001b[0;31mMismatchedABI\u001b[0m                             Traceback (most recent call last)",
      "Cell \u001b[0;32mIn[52], line 1\u001b[0m\n\u001b[0;32m----> 1\u001b[0m \u001b[43mcafe\u001b[49m\u001b[38;5;241;43m.\u001b[39;49m\u001b[43mworld\u001b[49m\u001b[38;5;241;43m.\u001b[39;49m\u001b[43mfunctions\u001b[49m\u001b[38;5;241;43m.\u001b[39;49m\u001b[43mgetRecord\u001b[49m\u001b[43m(\u001b[49m\u001b[38;5;124;43m\"\u001b[39;49m\u001b[38;5;124;43mInventory\u001b[39;49m\u001b[38;5;124;43m\"\u001b[39;49m\u001b[43m,\u001b[49m\u001b[43m \u001b[49m\u001b[43m[\u001b[49m\u001b[38;5;241;43m4\u001b[39;49m\u001b[43m,\u001b[49m\u001b[43m \u001b[49m\u001b[38;5;241;43m110\u001b[39;49m\u001b[43m]\u001b[49m\u001b[43m)\u001b[49m\u001b[38;5;241m.\u001b[39mcall()\n",
      "File \u001b[0;32m~/Library/Python/3.9/lib/python/site-packages/web3/contract/contract.py:396\u001b[0m, in \u001b[0;36mContractFunction.__call__\u001b[0;34m(self, *args, **kwargs)\u001b[0m\n\u001b[1;32m    393\u001b[0m             \u001b[38;5;28;01mbreak\u001b[39;00m\n\u001b[1;32m    394\u001b[0m     \u001b[38;5;28;01melse\u001b[39;00m:\n\u001b[1;32m    395\u001b[0m         \u001b[38;5;66;03m# Raise exception if multiple found\u001b[39;00m\n\u001b[0;32m--> 396\u001b[0m         \u001b[38;5;28;01mraise\u001b[39;00m MismatchedABI(\n\u001b[1;32m    397\u001b[0m             _mismatched_abi_error_diagnosis(\n\u001b[1;32m    398\u001b[0m                 function_name,\n\u001b[1;32m    399\u001b[0m                 \u001b[38;5;28mself\u001b[39m\u001b[38;5;241m.\u001b[39mcontract_abi,\n\u001b[1;32m    400\u001b[0m                 \u001b[38;5;28mlen\u001b[39m(function_abi_matches),\n\u001b[1;32m    401\u001b[0m                 num_args,\n\u001b[1;32m    402\u001b[0m                 \u001b[38;5;241m*\u001b[39margs,\n\u001b[1;32m    403\u001b[0m                 abi_codec\u001b[38;5;241m=\u001b[39m\u001b[38;5;28mself\u001b[39m\u001b[38;5;241m.\u001b[39mw3\u001b[38;5;241m.\u001b[39mcodec,\n\u001b[1;32m    404\u001b[0m                 \u001b[38;5;241m*\u001b[39m\u001b[38;5;241m*\u001b[39mkwargs,\n\u001b[1;32m    405\u001b[0m             )\n\u001b[1;32m    406\u001b[0m         )\n\u001b[1;32m    408\u001b[0m \u001b[38;5;28;01mreturn\u001b[39;00m copy_contract_function(contract_function, \u001b[38;5;241m*\u001b[39margs, \u001b[38;5;241m*\u001b[39m\u001b[38;5;241m*\u001b[39mkwargs)\n",
      "\u001b[0;31mMismatchedABI\u001b[0m: \nABI Not Found!\nFound 1 element(s) named `getRecord` that accept 2 argument(s).\nThe provided arguments are not valid.\nProvided argument types: (str,int,int)\nProvided keyword argument types: {}\n\nTried to find a matching ABI element named `getRecord`, but encountered the following problems:\nSignature: getRecord(bytes32,bytes32[]), type: function\nArgument 1 value `Inventory` is not compatible with type `bytes32`.\nArgument 2 value `[4, 110]` is not compatible with type `bytes32[]`.\nSignature: getRecord(bytes32,bytes32[],bytes32), type: function\nExpected 3 argument(s) but received 2 argument(s).\n"
     ]
    }
   ],
   "source": [
    "cafe.world.functions.getRecord(\"Inventory\", [4, 110]).call()"
   ]
  },
  {
   "cell_type": "code",
   "execution_count": 53,
   "metadata": {},
   "outputs": [
    {
     "ename": "TypeError",
     "evalue": "get_inventory_balance() missing 1 required positional argument: 'item_id'",
     "output_type": "error",
     "traceback": [
      "\u001b[0;31m---------------------------------------------------------------------------\u001b[0m",
      "\u001b[0;31mTypeError\u001b[0m                                 Traceback (most recent call last)",
      "Cell \u001b[0;32mIn[53], line 31\u001b[0m\n\u001b[1;32m     29\u001b[0m land_id \u001b[38;5;241m=\u001b[39m \u001b[38;5;241m4\u001b[39m\n\u001b[1;32m     30\u001b[0m item_id \u001b[38;5;241m=\u001b[39m \u001b[38;5;241m110\u001b[39m\n\u001b[0;32m---> 31\u001b[0m quantity \u001b[38;5;241m=\u001b[39m \u001b[43mget_inventory_balance\u001b[49m\u001b[43m(\u001b[49m\u001b[43mland_id\u001b[49m\u001b[43m,\u001b[49m\u001b[43m \u001b[49m\u001b[43mitem_id\u001b[49m\u001b[43m)\u001b[49m\n\u001b[1;32m     33\u001b[0m \u001b[38;5;28;01mif\u001b[39;00m quantity \u001b[38;5;129;01mis\u001b[39;00m \u001b[38;5;129;01mnot\u001b[39;00m \u001b[38;5;28;01mNone\u001b[39;00m:\n\u001b[1;32m     34\u001b[0m     \u001b[38;5;28mprint\u001b[39m(\u001b[38;5;124mf\u001b[39m\u001b[38;5;124m\"\u001b[39m\u001b[38;5;124mInventory balance for land \u001b[39m\u001b[38;5;132;01m{\u001b[39;00mland_id\u001b[38;5;132;01m}\u001b[39;00m\u001b[38;5;124m, item \u001b[39m\u001b[38;5;132;01m{\u001b[39;00mitem_id\u001b[38;5;132;01m}\u001b[39;00m\u001b[38;5;124m: \u001b[39m\u001b[38;5;132;01m{\u001b[39;00mquantity\u001b[38;5;132;01m}\u001b[39;00m\u001b[38;5;124m\"\u001b[39m)\n",
      "\u001b[0;31mTypeError\u001b[0m: get_inventory_balance() missing 1 required positional argument: 'item_id'"
     ]
    }
   ],
   "source": [
    "    def get_inventory_balance(self, land_id, item_id):\n",
    "        # Convert Inventory to bytes32\n",
    "        table_id = Web3.to_bytes(text=\"Inventory\").rjust(32, b'\\0')\n",
    "        \n",
    "        # Prepare key tuple\n",
    "        key_tuple = [\n",
    "            Web3.to_bytes(land_id).rjust(32, b'\\0'),\n",
    "            Web3.to_bytes(item_id).rjust(32, b'\\0')\n",
    "        ]\n",
    "        \n",
    "        # Field layout (you may need to adjust this based on your specific implementation)\n",
    "        field_layout = Web3.to_bytes(hexstr=\"0x0000000000000000000000000000000000000000000000000000000000000060\")\n",
    "\n",
    "        try:\n",
    "            # Call the getRecord function\n",
    "            static_data, encoded_lengths, dynamic_data = self.world.functions.getRecord(\n",
    "                table_id, key_tuple, field_layout\n",
    "            ).call()\n",
    "\n",
    "            # Decode the static data (assuming uint256 for quantity)\n",
    "            quantity = decode(['uint256'], static_data)[0]\n",
    "\n",
    "            return quantity\n",
    "        except Exception as e:\n",
    "            print(f\"Error getting inventory: {e}\")\n",
    "            return None\n",
    "\n",
    "    # Example usage\n",
    "    land_id = 4\n",
    "    item_id = 110\n",
    "    quantity = get_inventory_balance(land_id, item_id)\n",
    "\n",
    "    if quantity is not None:\n",
    "        print(f\"Inventory balance for land {land_id}, item {item_id}: {quantity}\")"
   ]
  },
  {
   "cell_type": "code",
   "execution_count": null,
   "metadata": {},
   "outputs": [],
   "source": []
  },
  {
   "cell_type": "code",
   "execution_count": 27,
   "metadata": {},
   "outputs": [
    {
     "name": "stdout",
     "output_type": "stream",
     "text": [
      "[{'jsonrpc': '2.0', 'error': {'code': -32600, 'message': 'invalid JSON-RPC version'}, 'id': None}]\n"
     ]
    }
   ],
   "source": [
    "import requests\n",
    "\n",
    "def query_table(rpc_url, world_address, table_name, columns):\n",
    "    url = f\"{rpc_url}/q\"\n",
    "    query = f\"SELECT {', '.join(columns)} FROM {table_name} LIMIT 1;\"\n",
    "    request_body = [\n",
    "        {\n",
    "            \"address\": world_address,\n",
    "            \"query\": query,\n",
    "        }\n",
    "    ]\n",
    "\n",
    "    try:\n",
    "        response = requests.post(url, json=request_body, headers={\n",
    "            \"Content-Type\": \"application/json\",\n",
    "            \"Accept-Encoding\": \"gzip\"\n",
    "        })\n",
    "        response.raise_for_status()\n",
    "        return response.json()\n",
    "    except requests.exceptions.RequestException as e:\n",
    "        print(f\"Error querying table '{table_name}': {e}\")\n",
    "        return None\n",
    "\n",
    "# Example usage\n",
    "rpc = \"https://rpc.garnetchain.com\"\n",
    "world_address = \"0x0209FE2b6C1a2B8cE12D8d9D6cf2D78a3Ff324FE\"\n",
    "\n",
    "# Known table and columns\n",
    "table_name = \"Inventory\"\n",
    "columns = [\"landId\", \"item\", \"quantity\"]\n",
    "\n",
    "result = query_table(rpc, world_address, table_name, columns)\n",
    "print(result)\n"
   ]
  },
  {
   "cell_type": "code",
   "execution_count": 30,
   "metadata": {},
   "outputs": [
    {
     "name": "stdout",
     "output_type": "stream",
     "text": [
      "Result: [{'jsonrpc': '2.0', 'error': {'code': -32600, 'message': 'invalid JSON-RPC version'}, 'id': None}]\n"
     ]
    }
   ],
   "source": [
    "import requests\n",
    "\n",
    "def query_table(rpc_url, world_address, table_name, columns):\n",
    "    url = f\"{rpc_url}/q\"\n",
    "    query = f\"SELECT {', '.join(columns)} FROM {table_name} LIMIT 1;\"\n",
    "    request_body = [\n",
    "        {\n",
    "            \"address\": world_address,\n",
    "            \"query\": query,\n",
    "        }\n",
    "    ]\n",
    "\n",
    "    try:\n",
    "        # Use plain JSON array for the payload\n",
    "        response = requests.post(url, json=request_body, headers={\n",
    "            \"Content-Type\": \"application/json\",\n",
    "        })\n",
    "        response.raise_for_status()\n",
    "\n",
    "        # Parse and return the response\n",
    "        return response.json()\n",
    "    except requests.exceptions.RequestException as e:\n",
    "        print(f\"Error querying table '{table_name}': {e}\")\n",
    "        return None\n",
    "\n",
    "# Example usage\n",
    "rpc = \"https://rpc.garnetchain.com\"\n",
    "world_address = \"0x0209FE2b6C1a2B8cE12D8d9D6cf2D78a3Ff324FE\"\n",
    "\n",
    "# Known table and columns\n",
    "table_name = \"Inventory\"\n",
    "columns = [\"landId\", \"item\", \"quantity\"]\n",
    "\n",
    "result = query_table(rpc, world_address, table_name, columns)\n",
    "print(result)\n"
   ]
  },
  {
   "cell_type": "code",
   "execution_count": 62,
   "metadata": {},
   "outputs": [],
   "source": [
    "import re\n",
    "import requests\n",
    "\n",
    "\n",
    "def parse_mud_config(file_path: str):\n",
    "    with open(file_path, \"r\") as f:\n",
    "        content = f.read()\n",
    "    \n",
    "    # Extract tables and schemas\n",
    "    table_pattern = r\"(\\w+):\\s*{\\s*schema:\\s*{([^}]+)},\\s*key:\\s*\\[([^]]+)]\"\n",
    "    matches = re.findall(table_pattern, content)\n",
    "\n",
    "    tables = {}\n",
    "    for table_name, schema_block, keys in matches:\n",
    "        schema = {\n",
    "            k.strip(): v.strip().strip('\"')\n",
    "            for k, v in re.findall(r\"(\\w+):\\s*\\\"?(\\w+\\[\\]?|\\w+)\\\"?\", schema_block)\n",
    "        }\n",
    "        keys = [k.strip().strip('\"') for k in keys.split(\",\")]\n",
    "        tables[table_name] = {\"schema\": schema, \"key\": keys}\n",
    "\n",
    "    return tables\n",
    "\n",
    "\n",
    "class BaseTable:\n",
    "    RESERVED_SQL_KEYWORDS = {\"exists\"}  # Add more keywords if needed\n",
    "\n",
    "    def __init__(self, sdk, table_name, schema, keys):\n",
    "        self.sdk = sdk\n",
    "        self.table_name = table_name\n",
    "        self.schema = schema\n",
    "        self.keys = keys\n",
    "\n",
    "    def _escape_column_name(self, column_name):\n",
    "        \"\"\"Escape column names that are reserved SQL keywords.\"\"\"\n",
    "        return f'\"{column_name}\"' if column_name in self.RESERVED_SQL_KEYWORDS else column_name\n",
    "\n",
    "    def get(self, limit=1000, **filters):\n",
    "        \"\"\"\n",
    "        Query the table with optional filters.\n",
    "\n",
    "        Args:\n",
    "            limit (int): Maximum number of rows to retrieve. Default is 1000.\n",
    "            **filters: Key-value pairs to filter the query.\n",
    "\n",
    "        Returns:\n",
    "            List[Dict[str, Any]]: A list of records from the table.\n",
    "        \"\"\"\n",
    "        # Determine the columns to select based on whether the keys are filtered\n",
    "        if any(key in filters for key in self.keys):\n",
    "            # Exclude keys from SELECT if they are filtered\n",
    "            select_columns = \", \".join(\n",
    "                self._escape_column_name(col)\n",
    "                for col in self.schema.keys()\n",
    "                if col not in self.keys\n",
    "            )\n",
    "        else:\n",
    "            # Include all columns if no keys are filtered\n",
    "            select_columns = \", \".join(\n",
    "                self._escape_column_name(col) for col in self.schema.keys()\n",
    "            )\n",
    "\n",
    "        # Construct the WHERE clause\n",
    "        where_clause = \" AND \".join(\n",
    "            f\"{self._escape_column_name(key)}={repr(value)}\" for key, value in filters.items()\n",
    "        )\n",
    "\n",
    "        query = f\"SELECT {select_columns} FROM {self.table_name}\"\n",
    "        if where_clause:\n",
    "            query += f\" WHERE {where_clause}\"\n",
    "        query += f\" LIMIT {limit};\"\n",
    "\n",
    "        payload = [{\"address\": self.sdk.address, \"query\": query}]\n",
    "        response = self.sdk.post(payload)\n",
    "        return self._parse_response(response)\n",
    "\n",
    "    def _parse_response(self, response):\n",
    "        if \"result\" not in response or not response[\"result\"]:\n",
    "            return None  # Return None if there are no results\n",
    "\n",
    "        results = response[\"result\"][0]\n",
    "        if not results:  # Check if the results array is empty\n",
    "            return None\n",
    "\n",
    "        headers, *rows = results\n",
    "        return [dict(zip(headers, row)) for row in rows]\n",
    "\n",
    "\n",
    "class TableRegistry:\n",
    "    def __init__(self, sdk):\n",
    "        self.sdk = sdk\n",
    "\n",
    "    def register_table(self, table_name, schema, keys):\n",
    "        \"\"\"\n",
    "        Dynamically create and register a table as an attribute of the registry.\n",
    "        \"\"\"\n",
    "        table_class = type(table_name, (BaseTable,), {})\n",
    "        table_instance = table_class(self.sdk, table_name, schema, keys)\n",
    "        setattr(self, table_name, table_instance)\n",
    "\n",
    "\n",
    "class MUDIndexerSDK:\n",
    "    def __init__(self, base_url, address, config_path):\n",
    "        self.base_url = base_url\n",
    "        self.address = address\n",
    "        self.tables = TableRegistry(self)\n",
    "\n",
    "        # Parse and register tables from the configuration file\n",
    "        tables = parse_mud_config(config_path)\n",
    "        for table_name, table_info in tables.items():\n",
    "            self.tables.register_table(table_name, table_info[\"schema\"], table_info[\"key\"])\n",
    "\n",
    "    def post(self, payload):\n",
    "        response = requests.post(self.base_url, json=payload, headers={\"Content-Type\": \"application/json\"})\n",
    "        if response.status_code != 200:\n",
    "            raise Exception(f\"Request failed with status {response.status_code}: {response.text}\")\n",
    "        return response.json()\n"
   ]
  },
  {
   "cell_type": "code",
   "execution_count": 63,
   "metadata": {},
   "outputs": [
    {
     "name": "stdout",
     "output_type": "stream",
     "text": [
      "[{'itemid': '79', 'totalactivestoves': '7'}]\n",
      "[{'totalactivestoves': '7'}]\n"
     ]
    }
   ],
   "source": [
    "# Initialize the SDK with the configuration file\n",
    "config_path = \"../packages/cafecosmos-contracts/mud.config.ts\"\n",
    "sdk = MUDIndexerSDK(\n",
    "    base_url=\"https://indexer.mud.garnetchain.com/q\",\n",
    "    address=\"0x0209FE2b6C1a2B8cE12D8d9D6cf2D78a3Ff324FE\",\n",
    "    config_path=config_path\n",
    ")\n",
    "\n",
    "# Query ActiveStoves without filters\n",
    "stoves = sdk.tables.ActiveStoves.get()\n",
    "print(stoves)\n",
    "\n",
    "# Query ActiveStoves with a filter\n",
    "filtered_stoves = sdk.tables.ActiveStoves.get(itemId=79)\n",
    "print(filtered_stoves)"
   ]
  },
  {
   "cell_type": "code",
   "execution_count": 58,
   "metadata": {},
   "outputs": [
    {
     "name": "stdout",
     "output_type": "stream",
     "text": [
      "[{'outputquantity': '1', 'xp': '1', 'exists': True, 'inputs': ['20', '23'], 'quantities': ['3', '2']}]\n"
     ]
    }
   ],
   "source": [
    "\n",
    "\n",
    "\n",
    "# Accessing a table dynamically\n",
    "recipes = sdk.tables.CraftingRecipe.get(output=110)\n",
    "print(recipes)"
   ]
  },
  {
   "cell_type": "code",
   "execution_count": 60,
   "metadata": {},
   "outputs": [
    {
     "data": {
      "text/plain": [
       "[{'totalactivestoves': '7'}]"
      ]
     },
     "execution_count": 60,
     "metadata": {},
     "output_type": "execute_result"
    }
   ],
   "source": [
    "sdk.tables.ActiveStoves.get(itemId=79)"
   ]
  },
  {
   "cell_type": "code",
   "execution_count": null,
   "metadata": {},
   "outputs": [],
   "source": []
  }
 ],
 "metadata": {
  "kernelspec": {
   "display_name": "Python 3",
   "language": "python",
   "name": "python3"
  },
  "language_info": {
   "codemirror_mode": {
    "name": "ipython",
    "version": 3
   },
   "file_extension": ".py",
   "mimetype": "text/x-python",
   "name": "python",
   "nbconvert_exporter": "python",
   "pygments_lexer": "ipython3",
   "version": "3.9.6"
  }
 },
 "nbformat": 4,
 "nbformat_minor": 2
}
