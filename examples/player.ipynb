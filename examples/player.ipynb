{
 "cells": [
  {
   "cell_type": "code",
   "execution_count": 1,
   "metadata": {},
   "outputs": [
    {
     "name": "stderr",
     "output_type": "stream",
     "text": [
      "/Users/nico/.virtualenvs/woww/lib/python3.9/site-packages/urllib3/__init__.py:35: NotOpenSSLWarning: urllib3 v2 only supports OpenSSL 1.1.1+, currently the 'ssl' module is compiled with 'LibreSSL 2.8.3'. See: https://github.com/urllib3/urllib3/issues/3020\n",
      "  warnings.warn(\n"
     ]
    }
   ],
   "source": [
    "from mud import Player, World, MUDIndexerSDK"
   ]
  },
  {
   "cell_type": "code",
   "execution_count": 2,
   "metadata": {},
   "outputs": [],
   "source": [
    "abi_dir = \"./cafecosmos-contracts/abi\"\n",
    "rpc = \"https://rpc.garnetchain.com\"\n",
    "world_address = \"0x0209FE2b6C1a2B8cE12D8d9D6cf2D78a3Ff324FE\"\n",
    "\n",
    "indexer_url = \"https://indexer.mud.garnetchain.com/q\"\n",
    "mud_config_path = \"./cafecosmos-contracts/mud.config.ts\"\n",
    "\n",
    "\n",
    "world = World(rpc, \n",
    "              world_address, \n",
    "              abi_dir, \n",
    "              indexer_url=indexer_url, \n",
    "              mud_config_path=mud_config_path)"
   ]
  },
  {
   "cell_type": "code",
   "execution_count": 3,
   "metadata": {},
   "outputs": [
    {
     "data": {
      "text/plain": [
       "2"
      ]
     },
     "execution_count": 3,
     "metadata": {},
     "output_type": "execute_result"
    }
   ],
   "source": [
    "world.calculateArea(1,2)"
   ]
  },
  {
   "cell_type": "code",
   "execution_count": 4,
   "metadata": {},
   "outputs": [
    {
     "data": {
      "text/plain": [
       "[{'itemid': '79', 'totalactivestoves': '7'}]"
      ]
     },
     "execution_count": 4,
     "metadata": {},
     "output_type": "execute_result"
    }
   ],
   "source": [
    "world.indexer.ActiveStoves.get()"
   ]
  },
  {
   "cell_type": "markdown",
   "metadata": {},
   "source": []
  },
  {
   "cell_type": "code",
   "execution_count": 5,
   "metadata": {},
   "outputs": [],
   "source": [
    "player = Player(env_key_name=\"PLAYER1\")\n",
    "player.add_world(world, \"cafecosmos\")\n"
   ]
  },
  {
   "cell_type": "code",
   "execution_count": 6,
   "metadata": {},
   "outputs": [],
   "source": [
    "landId = 8"
   ]
  },
  {
   "cell_type": "code",
   "execution_count": 8,
   "metadata": {},
   "outputs": [
    {
     "data": {
      "text/plain": [
       "[{'landid': '4', 'item': '1', 'quantity': '3'},\n",
       " {'landid': '4', 'item': '2', 'quantity': '21'},\n",
       " {'landid': '4', 'item': '5', 'quantity': '0'},\n",
       " {'landid': '4', 'item': '8', 'quantity': '1'},\n",
       " {'landid': '4', 'item': '12', 'quantity': '7'},\n",
       " {'landid': '4', 'item': '13', 'quantity': '1'},\n",
       " {'landid': '4', 'item': '15', 'quantity': '2'},\n",
       " {'landid': '4', 'item': '23', 'quantity': '40'},\n",
       " {'landid': '4', 'item': '25', 'quantity': '32'},\n",
       " {'landid': '4', 'item': '37', 'quantity': '32'},\n",
       " {'landid': '4', 'item': '43', 'quantity': '50'},\n",
       " {'landid': '4', 'item': '49', 'quantity': '48'},\n",
       " {'landid': '4', 'item': '89', 'quantity': '0'},\n",
       " {'landid': '4', 'item': '92', 'quantity': '0'},\n",
       " {'landid': '4', 'item': '108', 'quantity': '1'},\n",
       " {'landid': '4', 'item': '110', 'quantity': '1'},\n",
       " {'landid': '4', 'item': '111', 'quantity': '1'},\n",
       " {'landid': '4', 'item': '112', 'quantity': '1'},\n",
       " {'landid': '4', 'item': '128', 'quantity': '8'},\n",
       " {'landid': '4', 'item': '1010', 'quantity': '1'}]"
      ]
     },
     "execution_count": 8,
     "metadata": {},
     "output_type": "execute_result"
    }
   ],
   "source": [
    "player.cafecosmos.indexer.Inventory.get(landId=4)"
   ]
  },
  {
   "cell_type": "code",
   "execution_count": 9,
   "metadata": {},
   "outputs": [
    {
     "data": {
      "text/plain": [
       "['CraftingRecipe',\n",
       " 'ActiveStoves',\n",
       " 'StackableItem',\n",
       " 'ItemInfo',\n",
       " 'Inventory',\n",
       " 'LandInfo',\n",
       " 'LandItemCookingState',\n",
       " 'LandTablesAndChairs',\n",
       " 'LandItem',\n",
       " 'LandPermissions',\n",
       " 'LandCell',\n",
       " 'TransformationCategories',\n",
       " 'Transformations',\n",
       " 'LevelReward',\n",
       " 'ClaimedLevels',\n",
       " 'RewardCollection',\n",
       " 'QuestCollection',\n",
       " 'Reward',\n",
       " 'QuestGroup',\n",
       " 'Quest',\n",
       " 'QuestTask',\n",
       " 'LandQuestGroups',\n",
       " 'LandQuestTaskProgress',\n",
       " 'LandQuestGroup',\n",
       " 'LandQuest',\n",
       " 'Catalogue',\n",
       " 'CatalogueItem',\n",
       " 'GuildExists',\n",
       " 'GuildInvitation',\n",
       " 'MarketplaceListings',\n",
       " 'PlayerGuild',\n",
       " 'PlayerTotalEarned']"
      ]
     },
     "execution_count": 9,
     "metadata": {},
     "output_type": "execute_result"
    }
   ],
   "source": []
  },
  {
   "cell_type": "code",
   "execution_count": null,
   "metadata": {},
   "outputs": [],
   "source": []
  }
 ],
 "metadata": {
  "kernelspec": {
   "display_name": "woww",
   "language": "python",
   "name": "python3"
  },
  "language_info": {
   "codemirror_mode": {
    "name": "ipython",
    "version": 3
   },
   "file_extension": ".py",
   "mimetype": "text/x-python",
   "name": "python",
   "nbconvert_exporter": "python",
   "pygments_lexer": "ipython3",
   "version": "3.9.6"
  }
 },
 "nbformat": 4,
 "nbformat_minor": 2
}
