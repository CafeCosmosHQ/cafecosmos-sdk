{
 "cells": [
  {
   "cell_type": "code",
   "execution_count": 1,
   "metadata": {},
   "outputs": [
    {
     "name": "stderr",
     "output_type": "stream",
     "text": [
      "/Users/nico/.virtualenvs/woww/lib/python3.9/site-packages/urllib3/__init__.py:35: NotOpenSSLWarning: urllib3 v2 only supports OpenSSL 1.1.1+, currently the 'ssl' module is compiled with 'LibreSSL 2.8.3'. See: https://github.com/urllib3/urllib3/issues/3020\n",
      "  warnings.warn(\n"
     ]
    }
   ],
   "source": [
    "from mud import MUDIndexerSDK"
   ]
  },
  {
   "cell_type": "code",
   "execution_count": 2,
   "metadata": {},
   "outputs": [],
   "source": [
    "indexer_url = \"https://indexer.mud.garnetchain.com/q\"\n",
    "world_address = \"0x0209FE2b6C1a2B8cE12D8d9D6cf2D78a3Ff324FE\"\n",
    "mud_config_path = \"./mud.config.ts\"\n",
    "\n",
    "sdk = MUDIndexerSDK(indexer_url=indexer_url,\n",
    "                    world_address=world_address,\n",
    "                    mud_config_path=mud_config_path)\n"
   ]
  },
  {
   "cell_type": "code",
   "execution_count": 3,
   "metadata": {},
   "outputs": [
    {
     "data": {
      "text/plain": [
       "[{'landid': '1',\n",
       "  'activequestgroupids': ['2', '5'],\n",
       "  'questgroupids': ['1', '2', '5']},\n",
       " {'landid': '2',\n",
       "  'activequestgroupids': ['4'],\n",
       "  'questgroupids': ['1', '2', '3', '4']},\n",
       " {'landid': '3',\n",
       "  'activequestgroupids': ['4'],\n",
       "  'questgroupids': ['2', '3', '4']},\n",
       " {'landid': '4',\n",
       "  'activequestgroupids': ['2', '4'],\n",
       "  'questgroupids': ['2', '4']},\n",
       " {'landid': '5', 'activequestgroupids': ['4'], 'questgroupids': ['2', '4']},\n",
       " {'landid': '6', 'activequestgroupids': ['4'], 'questgroupids': ['2', '4']},\n",
       " {'landid': '7', 'activequestgroupids': ['2'], 'questgroupids': ['2']}]"
      ]
     },
     "execution_count": 3,
     "metadata": {},
     "output_type": "execute_result"
    }
   ],
   "source": [
    "sdk.tables.LandQuestGroups.get()"
   ]
  },
  {
   "cell_type": "code",
   "execution_count": null,
   "metadata": {},
   "outputs": [],
   "source": []
  }
 ],
 "metadata": {
  "kernelspec": {
   "display_name": "woww",
   "language": "python",
   "name": "python3"
  },
  "language_info": {
   "codemirror_mode": {
    "name": "ipython",
    "version": 3
   },
   "file_extension": ".py",
   "mimetype": "text/x-python",
   "name": "python",
   "nbconvert_exporter": "python",
   "pygments_lexer": "ipython3",
   "version": "3.9.6"
  }
 },
 "nbformat": 4,
 "nbformat_minor": 2
}
