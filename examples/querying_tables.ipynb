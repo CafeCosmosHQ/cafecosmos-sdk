{
 "cells": [
  {
   "cell_type": "code",
   "execution_count": 1,
   "metadata": {},
   "outputs": [
    {
     "name": "stderr",
     "output_type": "stream",
     "text": [
      "/Users/nico/.virtualenvs/woww/lib/python3.9/site-packages/urllib3/__init__.py:35: NotOpenSSLWarning: urllib3 v2 only supports OpenSSL 1.1.1+, currently the 'ssl' module is compiled with 'LibreSSL 2.8.3'. See: https://github.com/urllib3/urllib3/issues/3020\n",
      "  warnings.warn(\n"
     ]
    }
   ],
   "source": [
    "from mud import MUDIndexerSDK"
   ]
  },
  {
   "cell_type": "code",
   "execution_count": 2,
   "metadata": {},
   "outputs": [],
   "source": [
    "indexer_url = \"https://indexer.mud.garnetchain.com/q\"\n",
    "world_address = \"0x0209FE2b6C1a2B8cE12D8d9D6cf2D78a3Ff324FE\"\n",
    "mud_config_path = \"./cafecosmos-contracts/mud.config.ts\"\n",
    "\n",
    "sdk = MUDIndexerSDK(indexer_url=indexer_url,\n",
    "                    world_address=world_address,\n",
    "                    mud_config_path=mud_config_path)\n"
   ]
  },
  {
   "cell_type": "code",
   "execution_count": 8,
   "metadata": {},
   "outputs": [
    {
     "name": "stdout",
     "output_type": "stream",
     "text": [
      "payload [{'address': '0x0209FE2b6C1a2B8cE12D8d9D6cf2D78a3Ff324FE', 'query': 'SELECT landId, limitX, limitY, activeTables, activeStoves, isInitialized, seed, tokenBalance, cumulativeXp, lastLevelClaimed, yBound FROM LandInfo LIMIT 1000;'}]\n"
     ]
    },
    {
     "data": {
      "text/plain": [
       "[{'landid': '1',\n",
       "  'limitx': '10',\n",
       "  'limity': '10',\n",
       "  'activetables': '1',\n",
       "  'activestoves': '1',\n",
       "  'isinitialized': True,\n",
       "  'seed': '165609701',\n",
       "  'tokenbalance': '0',\n",
       "  'cumulativexp': '50',\n",
       "  'lastlevelclaimed': '4',\n",
       "  'ybound': ['10', '10', '10', '10', '10', '10', '10', '10', '10', '10']},\n",
       " {'landid': '2',\n",
       "  'limitx': '10',\n",
       "  'limity': '10',\n",
       "  'activetables': '0',\n",
       "  'activestoves': '0',\n",
       "  'isinitialized': True,\n",
       "  'seed': '161825528',\n",
       "  'tokenbalance': '0',\n",
       "  'cumulativexp': '99',\n",
       "  'lastlevelclaimed': '8',\n",
       "  'ybound': ['10', '10', '10', '10', '10', '10', '10', '10', '10', '10']},\n",
       " {'landid': '3',\n",
       "  'limitx': '10',\n",
       "  'limity': '10',\n",
       "  'activetables': '0',\n",
       "  'activestoves': '0',\n",
       "  'isinitialized': True,\n",
       "  'seed': '1012917189',\n",
       "  'tokenbalance': '0',\n",
       "  'cumulativexp': '8',\n",
       "  'lastlevelclaimed': '1',\n",
       "  'ybound': ['10', '10', '10', '10', '10', '10', '10', '10', '10', '10']},\n",
       " {'landid': '4',\n",
       "  'limitx': '10',\n",
       "  'limity': '10',\n",
       "  'activetables': '1',\n",
       "  'activestoves': '0',\n",
       "  'isinitialized': True,\n",
       "  'seed': '1646570487',\n",
       "  'tokenbalance': '0',\n",
       "  'cumulativexp': '75',\n",
       "  'lastlevelclaimed': '6',\n",
       "  'ybound': ['10', '10', '10', '10', '10', '10', '10', '10', '10', '10']},\n",
       " {'landid': '5',\n",
       "  'limitx': '10',\n",
       "  'limity': '10',\n",
       "  'activetables': '0',\n",
       "  'activestoves': '0',\n",
       "  'isinitialized': True,\n",
       "  'seed': '738061375',\n",
       "  'tokenbalance': '0',\n",
       "  'cumulativexp': '391',\n",
       "  'lastlevelclaimed': '20',\n",
       "  'ybound': ['10', '10', '10', '10', '10', '10', '10', '10', '10', '10']},\n",
       " {'landid': '6',\n",
       "  'limitx': '10',\n",
       "  'limity': '10',\n",
       "  'activetables': '1',\n",
       "  'activestoves': '0',\n",
       "  'isinitialized': True,\n",
       "  'seed': '375791210',\n",
       "  'tokenbalance': '0',\n",
       "  'cumulativexp': '143',\n",
       "  'lastlevelclaimed': '11',\n",
       "  'ybound': ['10', '10', '10', '10', '10', '10', '10', '10', '10', '10']},\n",
       " {'landid': '7',\n",
       "  'limitx': '10',\n",
       "  'limity': '10',\n",
       "  'activetables': '0',\n",
       "  'activestoves': '0',\n",
       "  'isinitialized': True,\n",
       "  'seed': '1303360819',\n",
       "  'tokenbalance': '0',\n",
       "  'cumulativexp': '108',\n",
       "  'lastlevelclaimed': '8',\n",
       "  'ybound': ['10', '10', '10', '10', '10', '10', '10', '10', '10', '10']}]"
      ]
     },
     "execution_count": 8,
     "metadata": {},
     "output_type": "execute_result"
    }
   ],
   "source": [
    "sdk.tables.LandInfo.get()"
   ]
  },
  {
   "cell_type": "code",
   "execution_count": null,
   "metadata": {},
   "outputs": [],
   "source": []
  }
 ],
 "metadata": {
  "kernelspec": {
   "display_name": "woww",
   "language": "python",
   "name": "python3"
  },
  "language_info": {
   "codemirror_mode": {
    "name": "ipython",
    "version": 3
   },
   "file_extension": ".py",
   "mimetype": "text/x-python",
   "name": "python",
   "nbconvert_exporter": "python",
   "pygments_lexer": "ipython3",
   "version": "3.9.6"
  }
 },
 "nbformat": 4,
 "nbformat_minor": 2
}
